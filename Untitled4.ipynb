{
  "nbformat": 4,
  "nbformat_minor": 0,
  "metadata": {
    "colab": {
      "name": "Untitled4.ipynb",
      "provenance": [],
      "authorship_tag": "ABX9TyMlc2eufMSXNaos+J86c1qb",
      "include_colab_link": true
    },
    "kernelspec": {
      "name": "python3",
      "display_name": "Python 3"
    },
    "language_info": {
      "name": "python"
    }
  },
  "cells": [
    {
      "cell_type": "markdown",
      "metadata": {
        "id": "view-in-github",
        "colab_type": "text"
      },
      "source": [
        "<a href=\"https://colab.research.google.com/github/Vik0t/binary_classificator_model/blob/main/Untitled4.ipynb\" target=\"_parent\"><img src=\"https://colab.research.google.com/assets/colab-badge.svg\" alt=\"Open In Colab\"/></a>"
      ]
    },
    {
      "cell_type": "code",
      "execution_count": null,
      "metadata": {
        "colab": {
          "base_uri": "https://localhost:8080/"
        },
        "id": "aTmC5GG4mk52",
        "outputId": "e643be02-0c24-4122-fff1-7d0ebbc69977"
      },
      "outputs": [
        {
          "output_type": "stream",
          "name": "stdout",
          "text": [
            "TensorFlow version: 2.9.1\n"
          ]
        }
      ],
      "source": [
        "import tensorflow as tf\n",
        "print(\"TensorFlow version:\", tf.__version__)\n",
        "from tensorflow.keras.utils import load_img\n",
        "from tensorflow.keras.utils import img_to_array\n",
        "from keras.layers.convolutional import Conv2D, MaxPooling2D\n",
        "from tensorflow.keras.optimizers import SGD\n",
        "\n",
        "import keras,os\n",
        "from keras.models import Sequential\n",
        "from keras.layers import Dense, Conv2D, MaxPool2D , Flatten, Activation\n",
        "from keras.preprocessing.image import ImageDataGenerator\n",
        "\n",
        "import numpy as np\n",
        "from numpy import asarray\n",
        "from numpy import save\n",
        "\n",
        "from sklearn.model_selection import train_test_split\n",
        "import matplotlib as mpl\n",
        "import matplotlib.pyplot as plt\n",
        "\n",
        "from PIL import Image\n",
        "\n",
        "import cv2 as cv"
      ]
    },
    {
      "cell_type": "code",
      "source": [
        "test_datagen = ImageDataGenerator(rescale=1./255)\n",
        "\n",
        "test_generator = test_datagen.flow_from_directory(\n",
        "        '/home/viktor/short_train',\n",
        "        target_size=(200, 200),\n",
        "        color_mode=\"rgb\",\n",
        "        shuffle = False,\n",
        "        class_mode='binary',\n",
        "        batch_size=1)\n",
        "\n",
        "filenames = test_generator.filenames\n",
        "nb_samples = len(filenames)\n",
        "\n"
      ],
      "metadata": {
        "colab": {
          "base_uri": "https://localhost:8080/"
        },
        "id": "NWK5bRHPs9hD",
        "outputId": "de8f9737-e3e9-4bfd-d886-f4774b0a0b28"
      },
      "execution_count": null,
      "outputs": [
        {
          "output_type": "stream",
          "name": "stdout",
          "text": [
            "Found 2724 images belonging to 2 classes.\n"
          ]
        }
      ]
    },
    {
      "cell_type": "code",
      "source": [
        "class DecisionMaker:\n",
        "    def __init__(self):  \n",
        "        self.out = tf.keras.models.load_model('my_model')\n",
        "        # self.__weights = tf.keras.models.load_model('my_model_weights.h5')\n",
        "\n",
        "    def predict(self, img) -> bool:\n",
        "        res_img = img.swapaxes(1, 0)\n",
        "        conv_img = Image.fromarray(res_img, 'RGB')\n",
        "        img_array = np.array(conv_img)\n",
        "        img_array = np.expand_dims(img_array, axis=0)\n",
        "        print(res_img.shape, img_array.shape)\n",
        "        predicted_val = self.out.predict(img_array)[0][0]\n",
        "        return predicted_val\n",
        "\n",
        "AI = DecisionMaker()\n",
        "img = cv.imread('close.3.png')\n",
        "AI.predict(cv.resize(img, (200, 200)))"
      ],
      "metadata": {
        "id": "qvC1YHIDm1GO",
        "colab": {
          "base_uri": "https://localhost:8080/"
        },
        "outputId": "7c66beb2-6b21-4de8-c220-1c541dfeb0db"
      },
      "execution_count": null,
      "outputs": [
        {
          "output_type": "stream",
          "name": "stdout",
          "text": [
            "(200, 200, 3) (1, 200, 200, 3)\n",
            "1/1 [==============================] - 0s 111ms/step\n"
          ]
        },
        {
          "output_type": "execute_result",
          "data": {
            "text/plain": [
              "1.0"
            ]
          },
          "metadata": {},
          "execution_count": 32
        }
      ]
    }
  ]
}